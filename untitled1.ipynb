{
  "nbformat": 4,
  "nbformat_minor": 0,
  "metadata": {
    "colab": {
      "provenance": [],
      "authorship_tag": "ABX9TyNXm02SPmEERTGIrizzkOXY",
      "include_colab_link": true
    },
    "kernelspec": {
      "name": "python3",
      "display_name": "Python 3"
    },
    "language_info": {
      "name": "python"
    }
  },
  "cells": [
    {
      "cell_type": "markdown",
      "metadata": {
        "id": "view-in-github",
        "colab_type": "text"
      },
      "source": [
        "<a href=\"https://colab.research.google.com/github/JHS2025/NLP_PictureBook_2025/blob/main/untitled1.ipynb\" target=\"_parent\"><img src=\"https://colab.research.google.com/assets/colab-badge.svg\" alt=\"Open In Colab\"/></a>"
      ]
    },
    {
      "cell_type": "markdown",
      "source": [
        "주제: 소설\n",
        "\n",
        "작가:William Shakespeare,\n",
        "\n",
        "작품:셰익\n",
        "1)로미오와 줄리엣 (Romeo and Juliet)\n",
        "2)햄릿 (Hamlet)\n",
        "\n",
        "작품:\n"
      ],
      "metadata": {
        "id": "3Aj1xBRT-7F-"
      }
    },
    {
      "cell_type": "code",
      "execution_count": null,
      "metadata": {
        "id": "7Hxt5wQZ-5s9"
      },
      "outputs": [],
      "source": []
    }
  ]
}